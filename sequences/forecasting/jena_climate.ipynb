{
 "cells": [
  {
   "cell_type": "code",
   "execution_count": 1,
   "metadata": {},
   "outputs": [
    {
     "data": {
      "text/plain": [
       "'\\nThe exact formulation of the problem:\\nGiven data going as far back as lookback timesteps (a timestep is 10 minutes)\\nand sampled every steps timesteps, can you predict the temperature in delay timesteps?\\nYou’ll use the following parameter values:\\n- lookback = 720 — Observations will go back 5 days.\\n- steps = 6 — Observations will be sampled at one data point per hour.\\n- delay = 144 — Targets will be 24 hours in the future.\\n'"
      ]
     },
     "execution_count": 1,
     "metadata": {},
     "output_type": "execute_result"
    }
   ],
   "source": [
    "\"\"\"\n",
    "The exact formulation of the problem:\n",
    "Given data going as far back as lookback timesteps (a timestep is 10 minutes)\n",
    "and sampled every steps timesteps, can you predict the temperature in delay timesteps?\n",
    "You’ll use the following parameter values:\n",
    "- lookback = 720 — Observations will go back 5 days.\n",
    "- steps = 6 — Observations will be sampled at one data point per hour.\n",
    "- delay = 144 — Targets will be 24 hours in the future.\n",
    "\"\"\""
   ]
  },
  {
   "cell_type": "code",
   "execution_count": 2,
   "metadata": {},
   "outputs": [
    {
     "name": "stdin",
     "output_type": "stream",
     "text": [
      "Once deleted, variables cannot be recovered. Proceed (y/[n])?  y\n"
     ]
    },
    {
     "name": "stderr",
     "output_type": "stream",
     "text": [
      "/Users/slechwar/miniconda3/lib/python3.6/importlib/_bootstrap.py:219: RuntimeWarning: compiletime version 3.5 of module 'tensorflow.python.framework.fast_tensor_util' does not match runtime version 3.6\n",
      "  return f(*args, **kwds)\n"
     ]
    }
   ],
   "source": [
    "%reset\n",
    "import os\n",
    "import numpy as np\n",
    "\n",
    "import matplotlib.pyplot as plt\n",
    "import seaborn as sns\n",
    "%matplotlib inline\n",
    "\n",
    "import tensorflow as tf\n",
    "\n",
    "import warnings\n",
    "warnings.filterwarnings('ignore')"
   ]
  },
  {
   "cell_type": "code",
   "execution_count": 3,
   "metadata": {},
   "outputs": [],
   "source": [
    "DATA_DIR = '/Users/slechwar/dev/methods/sequences/forecasting'\n",
    "TRAINING_SAMPLES = 200000\n",
    "\n",
    "fname = os.path.join(DATA_DIR, 'jena_climate_2009_2016.csv')\n",
    "f = open(fname)\n",
    "data = f.read()\n",
    "f.close()\n",
    "lines = data.split('\\n')\n",
    "header = lines[0].split(',')\n",
    "lines = lines[1:]"
   ]
  },
  {
   "cell_type": "code",
   "execution_count": 4,
   "metadata": {},
   "outputs": [
    {
     "name": "stdout",
     "output_type": "stream",
     "text": [
      "CPU times: user 2.54 s, sys: 104 ms, total: 2.65 s\n",
      "Wall time: 2.81 s\n"
     ]
    }
   ],
   "source": [
    "%%time\n",
    "def preprocessing(lines, training_samples):\n",
    "    # Change all values to floats.\n",
    "    # Remove 'Date Time' column from further processing.\n",
    "    # Standardize the data.\n",
    "    result = np.zeros((len(lines), len(header) - 1))\n",
    "    for i, line in enumerate(lines):\n",
    "        values = [float(x) for x in line.split(',')[1:]]\n",
    "        result[i, :] = values\n",
    "\n",
    "    mean = result[:training_samples].mean(axis=0)\n",
    "    result -= mean\n",
    "    std = result[:training_samples].std(axis=0)\n",
    "    result /= std\n",
    "\n",
    "    return result, mean, std\n",
    "\n",
    "float_data, mean, std = preprocessing(lines, TRAINING_SAMPLES)"
   ]
  },
  {
   "cell_type": "code",
   "execution_count": 5,
   "metadata": {},
   "outputs": [],
   "source": [
    "'''\n",
    "- data: The original array of floating-point data.\n",
    "- lookback: How many timesteps back the input data should go.\n",
    "- delay: How many timesteps in the future the target should be.\n",
    "- min_index and max_index: Indices in the data array that delimit which timesteps\n",
    "to draw from. This is useful for keeping a segment of the data for validation\n",
    "and another for testing.\n",
    "- shuffle: Whether to shuffle the samples or draw them in chronological order.\n",
    "- batch_size: The number of samples per batch.\n",
    "- step: The period, in timesteps, at which you sample data. You’ll set it to 6 in\n",
    "order to draw one data point every hour.\n",
    "'''\n",
    "def generator(data, lookback, delay, min_index, max_index,\n",
    "              shuffle=False, batch_size=128, step=6):\n",
    "    if max_index is None:\n",
    "        max_index = len(data) - delay - 1\n",
    "    i = min_index + lookback\n",
    "    while 1:\n",
    "        if shuffle:\n",
    "            rows = np.random.randint(\n",
    "                min_index + lookback, max_index, size=batch_size)\n",
    "        else:\n",
    "            if i + batch_size >= max_index:\n",
    "                i = min_index + lookback\n",
    "            rows = np.arange(i, min(i + batch_size, max_index))\n",
    "            i += len(rows)\n",
    "        # Axis:\n",
    "        # 0: Number of samples in the batch.\n",
    "        # 1: Time axis (timestamp). Drawn data point (one hour interval).\n",
    "        # 2: Features axis.\n",
    "        samples = np.zeros((len(rows),\n",
    "                            lookback // step,\n",
    "                            data.shape[-1]))\n",
    "        targets = np.zeros((len(rows),))\n",
    "        for j, row in enumerate(rows):\n",
    "            indices = range(rows[j] - lookback, rows[j], step)\n",
    "            samples[j] = data[indices]\n",
    "            targets[j] = data[rows[j] + delay][1]\n",
    "        yield samples, targets\n",
    "    \n",
    "lookback = 1440\n",
    "step = 6\n",
    "delay = 144\n",
    "batch_size = 128\n",
    "\n",
    "train_gen = generator(\n",
    "    float_data,\n",
    "    lookback=lookback,\n",
    "    delay=delay,\n",
    "    min_index=0,\n",
    "    max_index=200000,\n",
    "    shuffle=True,\n",
    "    step=step,\n",
    "    batch_size=batch_size)\n",
    "\n",
    "val_gen = generator(\n",
    "    float_data,\n",
    "    lookback=lookback,\n",
    "    delay=delay,\n",
    "    min_index=200001,\n",
    "    max_index=300000,\n",
    "    step=step,\n",
    "    batch_size=batch_size)\n",
    "\n",
    "test_gen = generator(\n",
    "    float_data,\n",
    "    lookback=lookback,\n",
    "    delay=delay,\n",
    "    min_index=300001,\n",
    "    max_index=None,\n",
    "    step=step,\n",
    "    batch_size=batch_size)\n",
    "\n",
    "train_steps = (200000 - lookback)\n",
    "val_steps = (300000 - 200001 - lookback)\n",
    "test_steps = (len(float_data) - 300001 - lookback)"
   ]
  },
  {
   "cell_type": "code",
   "execution_count": 6,
   "metadata": {},
   "outputs": [],
   "source": [
    "def plot_loss(history):\n",
    "    val_loss = history.history['val_loss']\n",
    "    loss = history.history['loss']\n",
    "    epochs = range(1, len(loss) + 1)\n",
    "\n",
    "    plt.figure(figsize=(10, 5))\n",
    "    plt.plot(epochs, loss, 'bo', label='training loss')\n",
    "    plt.plot(epochs, val_loss, 'b', label='validation loss')\n",
    "    plt.legend()\n",
    "    plt.show()"
   ]
  },
  {
   "cell_type": "code",
   "execution_count": 39,
   "metadata": {},
   "outputs": [
    {
     "name": "stdout",
     "output_type": "stream",
     "text": [
      "Mean MAE: 0.2848166608827257\n",
      "Mean MAE (degrees Celsius): 2.521339229060914\n",
      "CPU times: user 4.89 s, sys: 15.5 ms, total: 4.9 s\n",
      "Wall time: 4.91 s\n"
     ]
    }
   ],
   "source": [
    "%%time\n",
    "# Non-ML baseline to beat.\n",
    "# Temperature in next 24h will be the same as temperature in current time.\n",
    "# Lets calculate mean absolut error to check its performance.\n",
    "# To speed things up, take onlt 1/100 of validation dataset.\n",
    "def evaluate_naive_method(std):\n",
    "    batch_maes = []\n",
    "    for _ in range(val_steps // 100):\n",
    "        samples, targets = next(val_gen)\n",
    "        # Take all samples (axis 0),\n",
    "        # from last period/timestamp (axis 1),\n",
    "        # and feature \"T (degC)\" (axis 2)\n",
    "        preds = samples[:, -1, 1]\n",
    "        mae = np.mean(np.abs(preds - targets))\n",
    "        batch_maes.append(mae)\n",
    "    mean_batch_maes = np.mean(batch_maes)\n",
    "    print('Mean MAE: {}'.format(mean_batch_maes))\n",
    "    # Because the temperature data has been normalized to be\n",
    "    # centered on 0 and have a standard deviation of 1, \n",
    "    # this number isn’t immediately interpretable.\n",
    "    # Need to multiply with standard deviation to get interpretable value.\n",
    "    print('Mean MAE (degrees Celsius): {}'.format(mean_batch_maes * std[1]))\n",
    "    \n",
    "evaluate_naive_method(std)"
   ]
  },
  {
   "cell_type": "code",
   "execution_count": 40,
   "metadata": {},
   "outputs": [
    {
     "name": "stdout",
     "output_type": "stream",
     "text": [
      "_________________________________________________________________\n",
      "Layer (type)                 Output Shape              Param #   \n",
      "=================================================================\n",
      "flatten_3 (Flatten)          (None, 3360)              0         \n",
      "_________________________________________________________________\n",
      "dense_6 (Dense)              (None, 32)                107552    \n",
      "_________________________________________________________________\n",
      "dense_7 (Dense)              (None, 1)                 33        \n",
      "=================================================================\n",
      "Total params: 107,585\n",
      "Trainable params: 107,585\n",
      "Non-trainable params: 0\n",
      "_________________________________________________________________\n",
      "Epoch 1/20\n",
      "1551/1551 [==============================] - 18s 12ms/step - loss: 0.5714 - val_loss: 0.3149\n",
      "Epoch 2/20\n",
      "1551/1551 [==============================] - 17s 11ms/step - loss: 0.2491 - val_loss: 0.3352\n",
      "Epoch 3/20\n",
      "1551/1551 [==============================] - 18s 11ms/step - loss: 0.2286 - val_loss: 0.3456\n",
      "Epoch 4/20\n",
      "1551/1551 [==============================] - 17s 11ms/step - loss: 0.2165 - val_loss: 0.3384\n",
      "Epoch 5/20\n",
      "1551/1551 [==============================] - 17s 11ms/step - loss: 0.2078 - val_loss: 0.3263\n",
      "Epoch 6/20\n",
      "1551/1551 [==============================] - 17s 11ms/step - loss: 0.2025 - val_loss: 0.3442\n",
      "Epoch 7/20\n",
      "1551/1551 [==============================] - 18s 11ms/step - loss: 0.1978 - val_loss: 0.3357\n",
      "Epoch 8/20\n",
      "1551/1551 [==============================] - 17s 11ms/step - loss: 0.1939 - val_loss: 0.3313\n",
      "Epoch 9/20\n",
      "1551/1551 [==============================] - 19s 12ms/step - loss: 0.1905 - val_loss: 0.3361\n",
      "Epoch 10/20\n",
      "1551/1551 [==============================] - 17s 11ms/step - loss: 0.1871 - val_loss: 0.3504\n",
      "Epoch 11/20\n",
      "1551/1551 [==============================] - 17s 11ms/step - loss: 0.1848 - val_loss: 0.3560\n",
      "Epoch 12/20\n",
      "1551/1551 [==============================] - 18s 12ms/step - loss: 0.1810 - val_loss: 0.3600\n",
      "Epoch 13/20\n",
      "1551/1551 [==============================] - 17s 11ms/step - loss: 0.1790 - val_loss: 0.3677\n",
      "Epoch 14/20\n",
      "1551/1551 [==============================] - 19s 12ms/step - loss: 0.1766 - val_loss: 0.3816\n",
      "Epoch 15/20\n",
      "1551/1551 [==============================] - 18s 12ms/step - loss: 0.1756 - val_loss: 0.3501\n",
      "Epoch 16/20\n",
      "1551/1551 [==============================] - 17s 11ms/step - loss: 0.1730 - val_loss: 0.3590\n",
      "Epoch 17/20\n",
      "1551/1551 [==============================] - 18s 12ms/step - loss: 0.1718 - val_loss: 0.3566\n",
      "Epoch 18/20\n",
      "1551/1551 [==============================] - 17s 11ms/step - loss: 0.1703 - val_loss: 0.3927\n",
      "Epoch 19/20\n",
      "1551/1551 [==============================] - 17s 11ms/step - loss: 0.1688 - val_loss: 0.3634\n",
      "Epoch 20/20\n",
      "1551/1551 [==============================] - 18s 11ms/step - loss: 0.1671 - val_loss: 0.3815\n",
      "CPU times: user 8min 39s, sys: 43 s, total: 9min 22s\n",
      "Wall time: 5min 51s\n"
     ]
    }
   ],
   "source": [
    "%%time\n",
    "# Basic ML approach.\n",
    "# Regression model.\n",
    "\n",
    "def regression_model():\n",
    "    model = tf.keras.models.Sequential()\n",
    "    # Flatten expect shape without batches.\n",
    "    # Note! It will remove notion of time.\n",
    "    # Here we pass (number of timeseries samples, number of featuers).\n",
    "    model.add(tf.keras.layers.Flatten(input_shape=(lookback // step, float_data.shape[-1])))\n",
    "    model.add(tf.keras.layers.Dense(32, activation='relu'))\n",
    "    # Last layer without activation (typical for regression problems).\n",
    "    model.add(tf.keras.layers.Dense(1))\n",
    "    model.compile(\n",
    "        optimizer=tf.keras.optimizers.RMSprop(),\n",
    "        loss='mae')\n",
    "    model.summary()\n",
    "    return model\n",
    "\n",
    "model = regression_model()\n",
    "# Bug probably...\n",
    "# In order to run this, set:\n",
    "# - steps_per_epoch=train_steps // batch_size,\n",
    "# - validation_steps=val_steps // batch_size,\n",
    "# - workers=1,\n",
    "# - use_multiprocessing=False\n",
    "history = model.fit_generator(\n",
    "    train_gen,\n",
    "    steps_per_epoch=train_steps // batch_size,\n",
    "    epochs=20,\n",
    "    validation_data=val_gen,\n",
    "    validation_steps=val_steps // batch_size,\n",
    "    workers=1,\n",
    "    use_multiprocessing=False\n",
    ")\n",
    "\n",
    "plot_loss(history)\n",
    "# Worse than baseline for validation sample..."
   ]
  },
  {
   "cell_type": "code",
   "execution_count": null,
   "metadata": {},
   "outputs": [
    {
     "name": "stdout",
     "output_type": "stream",
     "text": [
      "Epoch 1/20\n",
      "1551/1551 [==============================] - 282s 182ms/step - loss: 0.2862 - val_loss: 0.2659\n",
      "Epoch 2/20\n",
      "1551/1551 [==============================] - 282s 182ms/step - loss: 0.2692 - val_loss: 0.2605\n",
      "Epoch 3/20\n",
      "1551/1551 [==============================] - 281s 181ms/step - loss: 0.2568 - val_loss: 0.2667\n",
      "Epoch 4/20\n",
      "1551/1551 [==============================] - 283s 182ms/step - loss: 0.2444 - val_loss: 0.2807\n",
      "Epoch 5/20\n",
      "1551/1551 [==============================] - 286s 184ms/step - loss: 0.2306 - val_loss: 0.2873\n",
      "Epoch 6/20\n",
      "1551/1551 [==============================] - 287s 185ms/step - loss: 0.2199 - val_loss: 0.2982\n",
      "Epoch 7/20\n",
      "1551/1551 [==============================] - 303s 195ms/step - loss: 0.2107 - val_loss: 0.2968\n",
      "Epoch 8/20\n",
      "1551/1551 [==============================] - 303s 195ms/step - loss: 0.2030 - val_loss: 0.2959\n",
      "Epoch 9/20\n",
      "1551/1551 [==============================] - 306s 197ms/step - loss: 0.1966 - val_loss: 0.3014\n",
      "Epoch 10/20\n",
      "1551/1551 [==============================] - 308s 198ms/step - loss: 0.1906 - val_loss: 0.3036\n",
      "Epoch 11/20\n",
      "1551/1551 [==============================] - 309s 199ms/step - loss: 0.1851 - val_loss: 0.3113\n",
      "Epoch 12/20\n",
      "1551/1551 [==============================] - 309s 199ms/step - loss: 0.1799 - val_loss: 0.3065\n",
      "Epoch 13/20\n",
      "1551/1551 [==============================] - 348s 225ms/step - loss: 0.1755 - val_loss: 0.3052\n",
      "Epoch 14/20\n",
      "1551/1551 [==============================] - 383s 247ms/step - loss: 0.1719 - val_loss: 0.3099\n",
      "Epoch 15/20\n",
      "1550/1551 [============================>.] - ETA: 0s - loss: 0.1683"
     ]
    }
   ],
   "source": [
    "%%time\n",
    "# Recurrent approach.\n",
    "# Use Gated recurrent unit (GRU)\n",
    "# Works using the same principle as LSTM\n",
    "# but they’re somewhat streamlined and thus cheaper to run\n",
    "\n",
    "def gru_model():\n",
    "    model = tf.keras.models.Sequential()\n",
    "    model.add(tf.keras.layers.GRU(32, input_shape=(None, float_data.shape[-1])))\n",
    "    model.add(tf.keras.layers.Dense(1))\n",
    "    model.compile(optimizer=tf.keras.optimizers.RMSprop(), loss='mae')\n",
    "    return model\n",
    "\n",
    "model = gru_model()\n",
    "history = model.fit_generator(\n",
    "    train_gen,\n",
    "    steps_per_epoch=train_steps // batch_size,\n",
    "    epochs=20,\n",
    "    validation_data=val_gen,\n",
    "    validation_steps=val_steps // batch_size)\n",
    "\n",
    "plot_loss(history)"
   ]
  },
  {
   "cell_type": "code",
   "execution_count": 7,
   "metadata": {},
   "outputs": [
    {
     "name": "stdout",
     "output_type": "stream",
     "text": [
      "Epoch 1/10\n",
      "1551/1551 [==============================] - 365s 235ms/step - loss: 0.3209 - val_loss: 0.2703\n",
      "Epoch 2/10\n",
      "1551/1551 [==============================] - 359s 232ms/step - loss: 0.2998 - val_loss: 0.2668\n",
      "Epoch 3/10\n",
      "1551/1551 [==============================] - 370s 238ms/step - loss: 0.2931 - val_loss: 0.2684\n",
      "Epoch 4/10\n",
      "1551/1551 [==============================] - 366s 236ms/step - loss: 0.2894 - val_loss: 0.2629\n",
      "Epoch 5/10\n",
      "1551/1551 [==============================] - 379s 244ms/step - loss: 0.2852 - val_loss: 0.2635\n",
      "Epoch 6/10\n",
      "1551/1551 [==============================] - 384s 247ms/step - loss: 0.2820 - val_loss: 0.2650\n",
      "Epoch 7/10\n",
      "1551/1551 [==============================] - 364s 235ms/step - loss: 0.2800 - val_loss: 0.2668\n",
      "Epoch 8/10\n",
      "1551/1551 [==============================] - 371s 239ms/step - loss: 0.2778 - val_loss: 0.2671\n",
      "Epoch 9/10\n",
      "1551/1551 [==============================] - 374s 241ms/step - loss: 0.2762 - val_loss: 0.2648\n",
      "Epoch 10/10\n",
      "1551/1551 [==============================] - 378s 244ms/step - loss: 0.2747 - val_loss: 0.2668\n"
     ]
    },
    {
     "data": {
      "image/png": "[encoded data removed]",
      "text/plain": [
       "<Figure size 720x360 with 1 Axes>"
      ]
     },
     "metadata": {
      "needs_background": "light"
     },
     "output_type": "display_data"
    }
   ],
   "source": [
    "# Adding dropout...\n",
    "def gru_model_with_dropout():\n",
    "    model = tf.keras.models.Sequential()\n",
    "    model.add(tf.keras.layers.GRU(\n",
    "        32, \n",
    "        dropout=0.2,\n",
    "        recurrent_dropout=0.2,\n",
    "        input_shape=(None, float_data.shape[-1])))\n",
    "    model.add(tf.keras.layers.Dense(1))\n",
    "    model.compile(optimizer=tf.keras.optimizers.RMSprop(), loss='mae')\n",
    "    return model\n",
    "\n",
    "model = gru_model_with_dropout()\n",
    "history = model.fit_generator(\n",
    "    train_gen,\n",
    "    steps_per_epoch=train_steps // batch_size,\n",
    "    epochs=10,\n",
    "    validation_data=val_gen,\n",
    "    validation_steps=val_steps // batch_size)\n",
    "\n",
    "plot_loss(history)"
   ]
  },
  {
   "cell_type": "code",
   "execution_count": 11,
   "metadata": {},
   "outputs": [
    {
     "name": "stdout",
     "output_type": "stream",
     "text": [
      "Epoch 1/10\n",
      "1551/1551 [==============================] - 827s 533ms/step - loss: 0.3227 - val_loss: 0.2697\n",
      "Epoch 2/10\n",
      "1551/1551 [==============================] - 813s 524ms/step - loss: 0.3022 - val_loss: 0.2631\n",
      "Epoch 3/10\n",
      "1551/1551 [==============================] - 807s 521ms/step - loss: 0.2930 - val_loss: 0.2702\n",
      "Epoch 4/10\n",
      "1551/1551 [==============================] - 811s 523ms/step - loss: 0.2872 - val_loss: 0.2664\n",
      "Epoch 5/10\n",
      "1551/1551 [==============================] - 807s 521ms/step - loss: 0.2818 - val_loss: 0.2634\n",
      "Epoch 6/10\n",
      "1551/1551 [==============================] - 810s 522ms/step - loss: 0.2752 - val_loss: 0.2685\n",
      "Epoch 7/10\n",
      "1551/1551 [==============================] - 740s 477ms/step - loss: 0.2715 - val_loss: 0.2669\n",
      "Epoch 8/10\n",
      "1551/1551 [==============================] - 670s 432ms/step - loss: 0.2686 - val_loss: 0.2692\n",
      "Epoch 9/10\n",
      "1551/1551 [==============================] - 680s 439ms/step - loss: 0.2649 - val_loss: 0.2733\n",
      "Epoch 10/10\n",
      "1551/1551 [==============================] - 1270s 819ms/step - loss: 0.2629 - val_loss: 0.2763\n"
     ]
    },
    {
     "data": {
      "image/png": "[encoded data removed]",
      "text/plain": [
       "<Figure size 720x360 with 1 Axes>"
      ]
     },
     "metadata": {
      "needs_background": "light"
     },
     "output_type": "display_data"
    },
    {
     "name": "stdout",
     "output_type": "stream",
     "text": [
      "CPU times: user 6h 22min 9s, sys: 1h 36min 16s, total: 7h 58min 25s\n",
      "Wall time: 2h 17min 16s\n"
     ]
    }
   ],
   "source": [
    "%%time\n",
    "# Stackling recurrent layes.\n",
    "# it’s generally a good idea to increase the\n",
    "# capacity of your network until overfitting becomes the primary obstacle.\n",
    "def gru_stacked_model_with_dropout():\n",
    "    model = tf.keras.models.Sequential()\n",
    "    model.add(tf.keras.layers.GRU(\n",
    "        32,\n",
    "        dropout=0.1,\n",
    "        recurrent_dropout=0.5,\n",
    "        return_sequences=True,\n",
    "        input_shape=(None, float_data.shape[-1])))\n",
    "    model.add(tf.keras.layers.GRU(\n",
    "        64,\n",
    "        dropout=0.1,\n",
    "        recurrent_dropout=0.5))\n",
    "    model.add(tf.keras.layers.Dense(1))\n",
    "    model.compile(optimizer=tf.keras.optimizers.RMSprop(), loss='mae')\n",
    "    return model\n",
    "    \n",
    "model = gru_stacked_model_with_dropout()\n",
    "history = model.fit_generator(\n",
    "    train_gen,\n",
    "    steps_per_epoch=train_steps // batch_size,\n",
    "    epochs=10,\n",
    "    validation_data=val_gen,\n",
    "    validation_steps=val_steps // batch_size)\n",
    "\n",
    "plot_loss(history)"
   ]
  }
 ],
 "metadata": {
  "kernelspec": {
   "display_name": "Python 3",
   "language": "python",
   "name": "python3"
  },
  "language_info": {
   "codemirror_mode": {
    "name": "ipython",
    "version": 3
   },
   "file_extension": ".py",
   "mimetype": "text/x-python",
   "name": "python",
   "nbconvert_exporter": "python",
   "pygments_lexer": "ipython3",
   "version": "3.6.6"
  }
 },
 "nbformat": 4,
 "nbformat_minor": 2
}
