{
 "cells": [
  {
   "cell_type": "code",
   "execution_count": 196,
   "metadata": {},
   "outputs": [
    {
     "data": {
      "text/plain": [
       "'\\nFrom OpenAI gym.\\nhttps://gym.openai.com/envs/CartPole-v1/\\n\\nA pole is attached by an un-actuated joint to a cart, which moves along a frictionless track. \\nThe system is controlled by applying a force of +1 or -1 to the cart. \\nThe pendulum starts upright, and the goal is to prevent it from falling over.\\nA reward of +1 is provided for every timestep that the pole remains upright. \\nThe episode ends when the pole is more than 15 degrees from vertical, \\nor the cart moves more than 2.4 units from the center.\\n\\nSource: https://keon.io/deep-q-learning/\\n'"
      ]
     },
     "execution_count": 196,
     "metadata": {},
     "output_type": "execute_result"
    }
   ],
   "source": [
    "%reset\n",
    "'''\n",
    "From OpenAI gym.\n",
    "https://gym.openai.com/envs/CartPole-v1/\n",
    "\n",
    "A pole is attached by an un-actuated joint to a cart, which moves along a frictionless track. \n",
    "The system is controlled by applying a force of +1 or -1 to the cart. \n",
    "The pendulum starts upright, and the goal is to prevent it from falling over.\n",
    "A reward of +1 is provided for every timestep that the pole remains upright. \n",
    "The episode ends when the pole is more than 15 degrees from vertical, \n",
    "or the cart moves more than 2.4 units from the center.\n",
    "'''"
   ]
  },
  {
   "cell_type": "code",
   "execution_count": 197,
   "metadata": {},
   "outputs": [],
   "source": [
    "import numpy as np\n",
    "#import pandas as pd\n",
    "\n",
    "import matplotlib.pyplot as plt\n",
    "import seaborn as sns\n",
    "%matplotlib inline\n",
    "\n",
    "import gym\n",
    "from tensorflow import keras\n",
    "\n",
    "import warnings\n",
    "warnings.filterwarnings('ignore')"
   ]
  },
  {
   "cell_type": "code",
   "execution_count": 200,
   "metadata": {},
   "outputs": [
    {
     "name": "stdout",
     "output_type": "stream",
     "text": [
      "\u001b[33mWARN: gym.spaces.Box autodetected dtype as <class 'numpy.float32'>. Please provide explicit dtype.\u001b[0m\n"
     ]
    }
   ],
   "source": [
    "env = gym.make('CartPole-v1')\n",
    "\n",
    "EPISODES = 10\n",
    "\n",
    "state_initial = env.reset()"
   ]
  },
  {
   "cell_type": "code",
   "execution_count": 4,
   "metadata": {},
   "outputs": [],
   "source": []
  },
  {
   "cell_type": "code",
   "execution_count": null,
   "metadata": {},
   "outputs": [],
   "source": []
  },
  {
   "cell_type": "code",
   "execution_count": null,
   "metadata": {},
   "outputs": [],
   "source": []
  },
  {
   "cell_type": "code",
   "execution_count": 181,
   "metadata": {},
   "outputs": [
    {
     "name": "stdout",
     "output_type": "stream",
     "text": [
      "[ 0.01337734 -0.1915353   0.03364685  0.31667388]\n",
      "1.0\n",
      "False\n"
     ]
    }
   ],
   "source": [
    "action = np.random.random_integers(low=0, high=1)\n",
    "env.reset()\n",
    "next_state, reward, done, _ = env.step(action)\n",
    "print(next_state)\n",
    "print(reward)\n",
    "print(done)"
   ]
  },
  {
   "cell_type": "code",
   "execution_count": 87,
   "metadata": {},
   "outputs": [],
   "source": [
    "state_size = env.observation_space.shape[0]  # angle of the pole and position of the cart\n",
    "action_size = env.action_space.n  # 0 or 1 to the cart, pushing it left or right."
   ]
  },
  {
   "cell_type": "code",
   "execution_count": 195,
   "metadata": {},
   "outputs": [],
   "source": [
    "# ------------------------------------\n",
    "LEARNING_RATE = 0.001\n",
    "# ------------------------------------\n",
    "\n",
    "def build_model(state_size, action_size):\n",
    "    # Neural Net for Deep-Q learning.\n",
    "    model = tf.keras.Sequential()\n",
    "    model.add(tf.keras.layers.InputLayer(input_shape=(state_size,)))\n",
    "    model.add(tf.keras.layers.Dense(24, activation='relu'))\n",
    "    model.add(tf.keras.layers.Dense(24, activation='relu'))\n",
    "    model.add(tf.keras.layers.Dense(action_size, activation='linear'))\n",
    "    \n",
    "    model.compile(\n",
    "        loss='mse',\n",
    "        metrics=['mae'],\n",
    "        optimizer=tf.train.AdamOptimizer(learning_rate=LEARNING_RATE))\n",
    "    return model\n",
    "\n",
    "model = build_model(state_size, action_size)"
   ]
  },
  {
   "cell_type": "code",
   "execution_count": 194,
   "metadata": {},
   "outputs": [
    {
     "data": {
      "text/plain": [
       "(4,)"
      ]
     },
     "execution_count": 194,
     "metadata": {},
     "output_type": "execute_result"
    }
   ],
   "source": [
    "next_state.shape"
   ]
  },
  {
   "cell_type": "code",
   "execution_count": null,
   "metadata": {},
   "outputs": [],
   "source": []
  },
  {
   "cell_type": "code",
   "execution_count": 19,
   "metadata": {},
   "outputs": [
    {
     "name": "stdout",
     "output_type": "stream",
     "text": [
      "\u001b[33mWARN: gym.spaces.Box autodetected dtype as <class 'numpy.float32'>. Please provide explicit dtype.\u001b[0m\n",
      "episode: 0/50, score: 24, e: 1.0\n",
      "episode: 1/50, score: 15, e: 0.92\n",
      "episode: 2/50, score: 10, e: 0.83\n",
      "episode: 3/50, score: 9, e: 0.76\n",
      "episode: 4/50, score: 16, e: 0.65\n",
      "episode: 5/50, score: 9, e: 0.59\n",
      "episode: 6/50, score: 18, e: 0.49\n",
      "episode: 7/50, score: 18, e: 0.41\n",
      "episode: 8/50, score: 15, e: 0.36\n",
      "episode: 9/50, score: 9, e: 0.32\n",
      "episode: 10/50, score: 9, e: 0.3\n",
      "episode: 11/50, score: 9, e: 0.27\n",
      "episode: 12/50, score: 11, e: 0.24\n",
      "episode: 13/50, score: 40, e: 0.16\n",
      "episode: 14/50, score: 85, e: 0.069\n",
      "episode: 15/50, score: 119, e: 0.021\n",
      "episode: 16/50, score: 76, e: 0.0099\n",
      "episode: 17/50, score: 99, e: 0.0099\n",
      "episode: 18/50, score: 62, e: 0.0099\n",
      "episode: 19/50, score: 42, e: 0.0099\n",
      "episode: 20/50, score: 61, e: 0.0099\n",
      "episode: 21/50, score: 78, e: 0.0099\n",
      "episode: 22/50, score: 109, e: 0.0099\n",
      "episode: 23/50, score: 88, e: 0.0099\n",
      "episode: 24/50, score: 76, e: 0.0099\n",
      "episode: 25/50, score: 110, e: 0.0099\n",
      "episode: 26/50, score: 96, e: 0.0099\n",
      "episode: 27/50, score: 19, e: 0.0099\n",
      "episode: 28/50, score: 90, e: 0.0099\n",
      "episode: 29/50, score: 59, e: 0.0099\n",
      "episode: 30/50, score: 109, e: 0.0099\n",
      "episode: 31/50, score: 82, e: 0.0099\n",
      "episode: 32/50, score: 101, e: 0.0099\n",
      "episode: 33/50, score: 89, e: 0.0099\n",
      "episode: 34/50, score: 89, e: 0.0099\n",
      "episode: 35/50, score: 98, e: 0.0099\n",
      "episode: 36/50, score: 88, e: 0.0099\n",
      "episode: 37/50, score: 86, e: 0.0099\n",
      "episode: 38/50, score: 98, e: 0.0099\n",
      "episode: 39/50, score: 122, e: 0.0099\n",
      "episode: 40/50, score: 110, e: 0.0099\n",
      "episode: 41/50, score: 87, e: 0.0099\n",
      "episode: 42/50, score: 26, e: 0.0099\n",
      "episode: 43/50, score: 31, e: 0.0099\n",
      "episode: 44/50, score: 104, e: 0.0099\n",
      "episode: 45/50, score: 19, e: 0.0099\n",
      "episode: 46/50, score: 24, e: 0.0099\n",
      "episode: 47/50, score: 17, e: 0.0099\n",
      "episode: 48/50, score: 75, e: 0.0099\n",
      "episode: 49/50, score: 135, e: 0.0099\n"
     ]
    }
   ],
   "source": [
    "\"\"\"\n",
    "Solves the cartpole-v1 enviroment on OpenAI gym using policy search\n",
    "Same algorithm as for cartpole-v0\n",
    "A neural network is used to store the policy\n",
    "At the end of each episode the target value for each taken action is\n",
    "updated with the total normalized reward (up to a learning rate)\n",
    "Then a standard supervised learning backprop on the entire batch is\n",
    "executed\n",
    "\"\"\"\n",
    "\n",
    "import numpy as np\n",
    "import numpy.matlib \n",
    "\n",
    "import gym\n",
    "from gym import wrappers\n",
    "\n",
    "import keras\n",
    "from keras.models import Sequential\n",
    "from keras.layers.core import Dense, Dropout, Activation\n",
    "from keras.optimizers import SGD, Adam, RMSprop\n",
    "from keras.utils import np_utils\n",
    "\n",
    "#initialize neural network to store policy\n",
    "ActorNet = Sequential()\n",
    "ActorNet.add(Dense(200,init='he_normal',input_dim=4,activation='relu'))\n",
    "ActorNet.add(Dense(200,init='he_normal',activation='relu'))\n",
    "ActorNet.add(Dense(2,init='he_normal',activation='sigmoid'))\n",
    "ActorNet.compile(loss='mse',optimizer='RMSprop',metrics=['mae'])\n",
    "\n",
    "NumEpisodes = 300\n",
    "\n",
    "#load environment\n",
    "env = gym.make('CartPole-v1')\n",
    "env = gym.wrappers.Monitor(env, 'monitor')\n",
    "\n",
    "TotalReward = 0\n",
    "BufferSize = 0\n",
    "eps = 1\n",
    "\n",
    "#start learning\n",
    "for episode in range(NumEpisodes):\n",
    "\n",
    "    #initial state\n",
    "    observation = env.reset() #observe initial state\n",
    "\n",
    "    States = []\n",
    "    ActionValues = []\n",
    "    Actions = []\n",
    "\n",
    "    t = 0\n",
    "    loss = 0\n",
    "    EpisodeReward = 0\n",
    "\n",
    "    #decrease epsilon after each episode\n",
    "    eps -= 0.01\n",
    "    if eps<0:\n",
    "        eps = 0\n",
    "\n",
    "    while True:\n",
    "        \n",
    "        #show graphical environment\n",
    "        #env.render()\n",
    "\n",
    "        #evaluate NN to find action probabilities for current state\n",
    "\n",
    "        #normalize inputs\n",
    "        observation[0] /= 2.5\n",
    "        observation[1] /= 2.5\n",
    "        observation[2] /= 0.2\n",
    "        observation[3] /= 2.5\n",
    "\n",
    "        ActionValue = ActorNet.predict(observation.reshape(1,4),verbose=0).reshape(2,)\n",
    "\n",
    "        #select best action eps-greedy with decay\n",
    "        greedy = np.random.random()\n",
    "        if greedy < eps:\n",
    "            Action = np.random.randint(2)\n",
    "        else:\n",
    "            Action = np.argmax(ActionValue)\n",
    "        \n",
    "        #execute action\n",
    "        observation_new, reward, done, info = env.step(Action)\n",
    "\n",
    "        #normalize reward, maximum reward per episode is 500\n",
    "        reward /= 500.0\n",
    "\n",
    "        EpisodeReward += reward\n",
    "        \n",
    "        #save current movement in memory to assign rewards at end of episode\n",
    "        States.append(observation)\n",
    "        ActionValues.append(ActionValue)\n",
    "        Actions.append(Action)\n",
    "\n",
    "        #update state\n",
    "        observation = observation_new\n",
    "\n",
    "        #next time step\n",
    "        t += 1\n",
    "\n",
    "        #end episode\n",
    "        if done:\n",
    "            break\n",
    "\n",
    "\n",
    "    #update finished episode memory with new reward\n",
    "    #only update action value for actions that were taken, leave others unchanged\n",
    "    alpha = 0.1\n",
    "    for i in range(t):\n",
    "        ActionValues[i][Actions[i]] = ActionValues[i][Actions[i]] * (1-alpha) + EpisodeReward * alpha\n",
    "\n",
    "    #update weights of NN based on last completed episode\n",
    "    batch_in = np.empty([t,4]) #input state\n",
    "    batch_tar = np.empty([t,2]) #target action values\n",
    "    for i in range(t):\n",
    "        batch_in[i] = States[i]\n",
    "        batch_tar[i] = ActionValues[i]\n",
    "    loss += ActorNet.train_on_batch(batch_in, batch_tar)[0]\n",
    "\n",
    "    print('Episode {0}, reward = {1}'.format(episode,EpisodeReward))\n",
    "\n",
    "    TotalReward += EpisodeReward\n",
    "\n",
    "print('Total reward = {0}'.format(TotalReward))\n",
    "#ActorNet.save('CPv1_model.h5')\n",
    "\n",
    "env.close()"
   ]
  }
 ],
 "metadata": {
  "kernelspec": {
   "display_name": "Python 3",
   "language": "python",
   "name": "python3"
  },
  "language_info": {
   "codemirror_mode": {
    "name": "ipython",
    "version": 3
   },
   "file_extension": ".py",
   "mimetype": "text/x-python",
   "name": "python",
   "nbconvert_exporter": "python",
   "pygments_lexer": "ipython3",
   "version": "3.6.6"
  }
 },
 "nbformat": 4,
 "nbformat_minor": 2
}
